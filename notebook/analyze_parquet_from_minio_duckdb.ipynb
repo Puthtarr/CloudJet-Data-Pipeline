{
 "cells": [
  {
   "cell_type": "code",
   "execution_count": 11,
   "id": "2b0a5eb7-281e-4d24-bc32-118395241eda",
   "metadata": {},
   "outputs": [],
   "source": [
    "import duckdb\n",
    "import os\n",
    "import logging\n",
    "import pytz\n",
    "from dotenv import load_dotenv\n",
    "from datetime import datetime\n",
    "from pathlib import Path"
   ]
  },
  {
   "cell_type": "code",
   "execution_count": 13,
   "id": "92def50a-d8b2-4f61-8d8d-ff073dcaa654",
   "metadata": {},
   "outputs": [],
   "source": [
    "# Setup date\n",
    "date = datetime.now(pytz.timezone(\"Asia/Bangkok\"))\n",
    "day = date.strftime(\"%Y-%m-%d\")"
   ]
  },
  {
   "cell_type": "code",
   "execution_count": 7,
   "id": "f61534d1-570b-474f-b09f-89fe99514e51",
   "metadata": {},
   "outputs": [],
   "source": [
    "# Load Environment variable\n",
    "load_dotenv()\n",
    "MINIO_ACCESS_KEY = os.getenv(\"MINIO_ROOT_USER\")\n",
    "MINIO_SECRET_KEY = os.getenv(\"MINIO_ROOT_PASSWORD\")\n",
    "MINIO_ENDPOINT = os.getenv(\"MINIO_ENDPOINT\")\n",
    "MINIO_BUCKET = os.getenv(\"MINIO_BUCKET\")\n",
    "\n",
    "if not MINIO_ACCESS_KEY or not MINIO_SECRET_KEY:\n",
    "    raise ValueError(\"Missing MinIO credentials in .env file\")"
   ]
  },
  {
   "cell_type": "code",
   "execution_count": 8,
   "id": "38e4764d-99ee-4e45-bf5b-6f64b85c826d",
   "metadata": {},
   "outputs": [],
   "source": [
    "# Setup logging\n",
    "log_dir = Path(\"/home/jovyan/work/data/logs\")\n",
    "log_dir.mkdir(parents=True, exist_ok=True)\n",
    "log_path = log_dir / f\"analyze_duckdb_{day}.log\"\n",
    "\n",
    "logging.basicConfig(\n",
    "    filename=log_path,\n",
    "    level=logging.INFO,\n",
    "    format=\"%(asctime)s [%(levelname)s] %(message)s\",\n",
    ")\n",
    "\n",
    "logging.info(\"Start analyzing parquet with DuckDB\")"
   ]
  },
  {
   "cell_type": "code",
   "execution_count": 9,
   "id": "1e8e76a8-2c3e-43c9-9a67-cc0c3d027f1a",
   "metadata": {},
   "outputs": [],
   "source": [
    "# Set ENV for DuckDB\n",
    "os.environ[\"AWS_ACCESS_KEY_ID\"] = MINIO_ACCESS_KEY\n",
    "os.environ[\"AWS_SECRET_ACCESS_KEY\"] = MINIO_SECRET_KEY"
   ]
  },
  {
   "cell_type": "code",
   "execution_count": 10,
   "id": "c6e80bfe-4725-4aa9-bd9b-678422b86405",
   "metadata": {},
   "outputs": [
    {
     "name": "stdout",
     "output_type": "stream",
     "text": [
      "  flight_iata departure_iata arrival_iata               arrival_time  \\\n",
      "0       TG640            BKK          NRT  2025-03-31T06:20:00+00:00   \n",
      "1      NH5952            BKK          NRT  2025-03-31T06:20:00+00:00   \n",
      "2      NH5954            BKK          NRT  2025-03-31T08:10:00+00:00   \n",
      "3      NH5956            BKK          NRT  2025-03-30T15:45:00+00:00   \n",
      "4       NH806            BKK          NRT  2025-03-30T15:20:00+00:00   \n",
      "\n",
      "                      airline                   arr_airport   city iata  temp  \\\n",
      "0  Thai Airways International  Narita International Airport  Tokyo  NRT   7.5   \n",
      "1                         ANA  Narita International Airport  Tokyo  NRT   7.5   \n",
      "2                         ANA  Narita International Airport  Tokyo  NRT   7.5   \n",
      "3                         ANA  Narita International Airport  Tokyo  NRT   7.5   \n",
      "4                         ANA  Narita International Airport  Tokyo  NRT   7.5   \n",
      "\n",
      "   humidity  weather  wind_speed  \n",
      "0      56.0  Unknown        6.17  \n",
      "1      56.0  Unknown        6.17  \n",
      "2      56.0  Unknown        6.17  \n",
      "3      56.0  Unknown        6.17  \n",
      "4      56.0  Unknown        6.17  \n",
      "                        airline  total_flights\n",
      "0    Thai Airways International             69\n",
      "1               Bangkok Airways             58\n",
      "2                    Air Canada             26\n",
      "3              Turkish Airlines             24\n",
      "4                           ANA             20\n",
      "..                          ...            ...\n",
      "64              Bhutan Airlines              1\n",
      "65  NCA - Nippon Cargo Airlines              1\n",
      "66                      Jin Air              1\n",
      "67                    Air Busan              1\n",
      "68          Hong Kong Air Cargo              1\n",
      "\n",
      "[69 rows x 2 columns]\n",
      "   weather  count\n",
      "0  Unknown    590\n",
      "1     None     54\n"
     ]
    }
   ],
   "source": [
    "# Prepare parquet path\n",
    "parquet_path = f\"s3://{MINIO_BUCKET}/{day}/flight_weather.parquet/part-00000*.parquet\"\n",
    "\n",
    "try:\n",
    "    db = duckdb.connect()\n",
    "\n",
    "    # Enable S3 (httpfs)\n",
    "    db.execute(\"INSTALL httpfs;\")\n",
    "    db.execute(\"LOAD httpfs;\")\n",
    "    db.execute(\"SET s3_region='us-east-1';\")\n",
    "    db.execute(f\"SET s3_endpoint='{MINIO_ENDPOINT}';\")\n",
    "    db.execute(\"SET s3_url_style='path';\")\n",
    "    db.execute(\"SET s3_use_ssl=false;\")  # Because MinIO on local does not use HTTPS\n",
    "\n",
    "    logging.info(f\"Connected to MinIO at {parquet_path}\")\n",
    "\n",
    "    # Sample records\n",
    "    logging.info(\"Sample records:\")\n",
    "    sample_df = db.execute(f\"\"\"\n",
    "        SELECT *\n",
    "        FROM '{parquet_path}'\n",
    "        LIMIT 5\n",
    "    \"\"\").fetchdf()\n",
    "    print(sample_df)\n",
    "\n",
    "    # Airline summary\n",
    "    logging.info(\"Flight count by airline:\")\n",
    "    airline_df = db.execute(f\"\"\"\n",
    "        SELECT airline, COUNT(*) as total_flights\n",
    "        FROM '{parquet_path}'\n",
    "        GROUP BY airline\n",
    "        ORDER BY total_flights DESC\n",
    "    \"\"\").fetchdf()\n",
    "    print(airline_df)\n",
    "\n",
    "    # Weather summary\n",
    "    logging.info(\"Top weather conditions:\")\n",
    "    weather_df = db.execute(f\"\"\"\n",
    "        SELECT weather, COUNT(*) as count\n",
    "        FROM '{parquet_path}'\n",
    "        GROUP BY weather\n",
    "        ORDER BY count DESC\n",
    "    \"\"\").fetchdf()\n",
    "    print(weather_df)\n",
    "\n",
    "    logging.info(\"Analysis complete!\")\n",
    "\n",
    "except Exception as e:\n",
    "    logging.error(f\"DuckDB analysis failed: {e}\")\n",
    "    print(\"Error during DuckDB analysis:\", e)"
   ]
  },
  {
   "cell_type": "code",
   "execution_count": null,
   "id": "6a989af8-c0ae-4c7d-97f8-b5663cec4400",
   "metadata": {},
   "outputs": [],
   "source": []
  }
 ],
 "metadata": {
  "kernelspec": {
   "display_name": "Python 3 (ipykernel)",
   "language": "python",
   "name": "python3"
  },
  "language_info": {
   "codemirror_mode": {
    "name": "ipython",
    "version": 3
   },
   "file_extension": ".py",
   "mimetype": "text/x-python",
   "name": "python",
   "nbconvert_exporter": "python",
   "pygments_lexer": "ipython3",
   "version": "3.11.6"
  }
 },
 "nbformat": 4,
 "nbformat_minor": 5
}

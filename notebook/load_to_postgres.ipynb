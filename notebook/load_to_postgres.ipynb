{
 "cells": [
  {
   "cell_type": "code",
   "execution_count": 1,
   "id": "27573852-c913-4218-9d27-4ea0255737f7",
   "metadata": {},
   "outputs": [],
   "source": [
    "import os\n",
    "import duckdb\n",
    "import logging\n",
    "import pytz\n",
    "from datetime import datetime, timedelta\n",
    "from pathlib import Path\n",
    "from dotenv import load_dotenv"
   ]
  },
  {
   "cell_type": "code",
   "execution_count": 2,
   "id": "16c6e867-8811-4851-ac83-7e9a764b0cbf",
   "metadata": {},
   "outputs": [
    {
     "name": "stdout",
     "output_type": "stream",
     "text": [
      "Processing date: 2025-03-30\n"
     ]
    }
   ],
   "source": [
    "# Setup date\n",
    "date = datetime.now(pytz.timezone(\"Asia/Bangkok\")) - timedelta(days=2)\n",
    "day = date.strftime(\"%Y-%m-%d\")\n",
    "print(f'Processing date: {day}')"
   ]
  },
  {
   "cell_type": "code",
   "execution_count": 3,
   "id": "cf0026c9-6338-4e36-9f9b-0c60e306cf15",
   "metadata": {},
   "outputs": [],
   "source": [
    "# Load environment variables\n",
    "load_dotenv()\n",
    "MINIO_ENDPOINT = os.getenv(\"MINIO_ENDPOINT\")\n",
    "MINIO_ACCESS_KEY = os.getenv(\"MINIO_ROOT_USER\")\n",
    "MINIO_SECRET_KEY = os.getenv(\"MINIO_ROOT_PASSWORD\")\n",
    "MINIO_BUCKET = os.getenv(\"MINIO_BUCKET\")\n",
    "\n",
    "PG_HOST = os.getenv(\"POSTGRES_HOST\")\n",
    "PG_PORT = os.getenv(\"POSTGRES_PORT\")\n",
    "PG_USER = os.getenv(\"POSTGRES_USER\")\n",
    "PG_PASSWORD = os.getenv(\"POSTGRES_PASSWORD\")\n",
    "PG_DB = os.getenv(\"POSTGRES_DB\")"
   ]
  },
  {
   "cell_type": "code",
   "execution_count": 4,
   "id": "18e7d69e-3507-4b3b-8279-9aaff830814b",
   "metadata": {},
   "outputs": [],
   "source": [
    "# Check Required Envs\n",
    "required_envs = {\n",
    "    \"MINIO_ENDPOINT\": MINIO_ENDPOINT,\n",
    "    \"MINIO_ROOT_USER\": MINIO_ACCESS_KEY,\n",
    "    \"MINIO_ROOT_PASSWORD\": MINIO_SECRET_KEY,\n",
    "    \"MINIO_BUCKET\": MINIO_BUCKET,\n",
    "    \"POSTGRES_HOST\": PG_HOST,\n",
    "    \"POSTGRES_PORT\": PG_PORT,\n",
    "    \"POSTGRES_USER\": PG_USER,\n",
    "    \"POSTGRES_PASSWORD\": PG_PASSWORD,\n",
    "    \"POSTGRES_DB\": PG_DB,\n",
    "}\n",
    "missing = [k for k, v in required_envs.items() if not v]\n",
    "if missing:\n",
    "    raise EnvironmentError(f\"Missing required environment variables: {missing}\")"
   ]
  },
  {
   "cell_type": "code",
   "execution_count": 5,
   "id": "6ee8c69c-a2e5-4e42-abbe-4c09179f9ec9",
   "metadata": {},
   "outputs": [],
   "source": [
    "# Setup Logging\n",
    "log_dir = Path(\"/home/jovyan/work/data/logs\")\n",
    "log_dir.mkdir(parents=True, exist_ok=True)\n",
    "log_path = log_dir / f\"load_to_postgres_{day}.log\"\n",
    "\n",
    "logging.basicConfig(\n",
    "    filename=log_path,\n",
    "    level=logging.INFO,\n",
    "    format=\"%(asctime)s [%(levelname)s] %(message)s\"\n",
    ")\n",
    "\n",
    "logging.info(\"Start loading data from MinIO to PostgreSQL\")"
   ]
  },
  {
   "cell_type": "code",
   "execution_count": 6,
   "id": "e5db1fe2-71ae-4f61-972a-371ba3b8c1b2",
   "metadata": {},
   "outputs": [],
   "source": [
    "# Connect to DuckDB and MinIO\n",
    "parquet_pattern = f\"s3://{MINIO_BUCKET}/{day}/flight_weather.parquet/*.parquet\"\n",
    "os.environ[\"AWS_ACCESS_KEY_ID\"] = MINIO_ACCESS_KEY\n",
    "os.environ[\"AWS_SECRET_ACCESS_KEY\"] = MINIO_SECRET_KEY\n",
    "\n",
    "db = duckdb.connect()\n",
    "\n",
    "db.execute(\"INSTALL httpfs;\")\n",
    "db.execute(\"LOAD httpfs;\")\n",
    "db.execute(\"SET s3_region='us-east-1';\")\n",
    "db.execute(f\"SET s3_endpoint='{MINIO_ENDPOINT}';\")\n",
    "db.execute(\"SET s3_url_style='path';\")\n",
    "db.execute(\"SET s3_use_ssl=false;\")\n",
    "\n",
    "logging.info(f\"Reading parquet from: {parquet_pattern}\")"
   ]
  },
  {
   "cell_type": "code",
   "execution_count": 7,
   "id": "28a2f1b0-325d-4fbc-87df-355f30a10762",
   "metadata": {},
   "outputs": [],
   "source": [
    "# Load Parquet to DuckDB\n",
    "try:\n",
    "    df = db.execute(f\"SELECT * FROM '{parquet_pattern}'\").fetchdf()\n",
    "    logging.info(f\"Loaded {len(df)} records from MinIO\")\n",
    "except Exception as e:\n",
    "    logging.error(f\"Failed to load parquet: {e}\")\n",
    "    raise"
   ]
  },
  {
   "cell_type": "code",
   "execution_count": 8,
   "id": "896fb119-37b5-429f-a094-ac702b479051",
   "metadata": {},
   "outputs": [],
   "source": [
    "# Write to PostgreSQL\n",
    "pg_conn_str = f\"postgresql://{PG_USER}:{PG_PASSWORD}@{PG_HOST}:{PG_PORT}/{PG_DB}\"\n",
    "\n",
    "try:\n",
    "    db.execute(\"INSTALL postgres;\")\n",
    "    db.execute(\"LOAD postgres;\")\n",
    "    db.execute(f\"ATTACH '{pg_conn_str}' AS postgres (TYPE postgres);\")\n",
    "    db.execute(\"\"\"\n",
    "        CREATE OR REPLACE TABLE postgres.public.flight_weather AS\n",
    "        SELECT * FROM df;\n",
    "    \"\"\")\n",
    "    logging.info(\"Data successfully written to PostgreSQL\")\n",
    "except Exception as e:\n",
    "    logging.error(f\"Failed to write to PostgreSQL: {e}\")\n",
    "    raise\n",
    "\n",
    "logging.info(\"Load to PostgreSQL completed successfully\")"
   ]
  },
  {
   "cell_type": "code",
   "execution_count": null,
   "id": "5bf65149-c4a3-4997-8fa4-c30eab2acdfd",
   "metadata": {},
   "outputs": [],
   "source": []
  }
 ],
 "metadata": {
  "kernelspec": {
   "display_name": "Python 3 (ipykernel)",
   "language": "python",
   "name": "python3"
  },
  "language_info": {
   "codemirror_mode": {
    "name": "ipython",
    "version": 3
   },
   "file_extension": ".py",
   "mimetype": "text/x-python",
   "name": "python",
   "nbconvert_exporter": "python",
   "pygments_lexer": "ipython3",
   "version": "3.11.6"
  }
 },
 "nbformat": 4,
 "nbformat_minor": 5
}

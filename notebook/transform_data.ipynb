{
 "cells": [
  {
   "cell_type": "code",
   "execution_count": 3,
   "id": "6927b19b-0299-4d20-92bc-ba8ab07357c4",
   "metadata": {},
   "outputs": [],
   "source": [
    "from pyspark.sql import SparkSession\n",
    "from pyspark.sql.functions import col\n",
    "from pyspark.sql.types import StructType, StructField, StringType, FloatType\n",
    "from datetime import datetime, timedelta\n",
    "import pytz\n",
    "import json\n",
    "from pathlib import Path"
   ]
  },
  {
   "cell_type": "code",
   "execution_count": 4,
   "id": "5a0306b8-2e82-4b02-9eb7-ed2092240839",
   "metadata": {},
   "outputs": [
    {
     "name": "stdout",
     "output_type": "stream",
     "text": [
      "2025-03-28\n"
     ]
    }
   ],
   "source": [
    "BASE_DIR = Path(\"/home/jovyan/work\")\n",
    "RAW_FLIGHT_DATA_DIR = BASE_DIR / \"data\" / \"raw\" / \"flight\"\n",
    "RAW_WEATHER_DATA_DIR = BASE_DIR / \"data\" / \"raw\" / \"weather\"\n",
    "CLEAN_DATA_DIR = BASE_DIR / \"data\" / \"clean\"\n",
    "\n",
    "now = datetime.now(pytz.timezone(\"Asia/Bangkok\"))\n",
    "day = now.strftime(\"%Y-%m-%d\")\n",
    "print(day)\n",
    "\n",
    "spark = SparkSession.builder.appName(\"CloudJetTransform\").getOrCreate()"
   ]
  },
  {
   "cell_type": "code",
   "execution_count": 5,
   "id": "9e27e3ce-9f60-4490-89b0-94f103c71851",
   "metadata": {},
   "outputs": [
    {
     "name": "stdout",
     "output_type": "stream",
     "text": [
      "+-----------+--------------+------------+--------------------+------------------+--------------------+\n",
      "|flight_iata|departure_iata|arrival_iata|        arrival_time|           airline|         arr_airport|\n",
      "+-----------+--------------+------------+--------------------+------------------+--------------------+\n",
      "|        NQ2|           BKK|         NRT|2025-03-28T08:10:...|         Air Japan|Narita Internatio...|\n",
      "|     AC6230|           BKK|         NRT|2025-03-27T15:05:...|        Air Canada|Narita Internatio...|\n",
      "|       ZG52|           BKK|         NRT|2025-03-28T07:30:...|            Zipair|Narita Internatio...|\n",
      "|     WS5931|           BKK|         NRT|2025-03-27T16:00:...|           WestJet|Narita Internatio...|\n",
      "|     UL3340|           BKK|         NRT|2025-03-27T16:00:...|SriLankan Airlines|Narita Internatio...|\n",
      "+-----------+--------------+------------+--------------------+------------------+--------------------+\n",
      "only showing top 5 rows\n",
      "\n"
     ]
    }
   ],
   "source": [
    "flight_path = RAW_FLIGHT_DATA_DIR / day / \"data.json\"\n",
    "\n",
    "df_flight_raw = spark.read.option(\"multiline\", True).json(str(flight_path))\n",
    "df_flight = df_flight_raw.select(\n",
    "    col(\"flight.iata\").alias(\"flight_iata\"),\n",
    "    col(\"departure.iata\").alias(\"departure_iata\"),\n",
    "    col(\"arrival.iata\").alias(\"arrival_iata\"),\n",
    "    col(\"arrival.scheduled\").alias(\"arrival_time\"),\n",
    "    col(\"airline.name\").alias(\"airline\"),\n",
    "    col(\"arrival.airport\").alias(\"arr_airport\"),\n",
    ")\n",
    "\n",
    "df_flight.show(5)\n"
   ]
  },
  {
   "cell_type": "code",
   "execution_count": 6,
   "id": "d5689af0-9a1f-4780-967a-d8b7cf8c5f63",
   "metadata": {},
   "outputs": [
    {
     "name": "stdout",
     "output_type": "stream",
     "text": [
      "+------------+------------+-----+--------+-------+----------+\n",
      "|        city|weather_iata| temp|humidity|weather|wind_speed|\n",
      "+------------+------------+-----+--------+-------+----------+\n",
      "|       Tokyo|         NRT|17.53|    84.0|Unknown|     11.32|\n",
      "|       Seoul|         ICN| 6.76|    38.0|Unknown|      4.87|\n",
      "|   Singapore|         SIN| 27.0|    87.0|Unknown|      1.54|\n",
      "|Kuala Lumpur|         KUL|27.02|    87.0|Unknown|      0.65|\n",
      "|      Taipei|         TPE|25.31|    59.0|Unknown|      1.34|\n",
      "+------------+------------+-----+--------+-------+----------+\n",
      "only showing top 5 rows\n",
      "\n"
     ]
    }
   ],
   "source": [
    "def safe_get(d, keys, default=None):\n",
    "    for k in keys:\n",
    "        if isinstance(d, dict) and k in d:\n",
    "            d = d[k]\n",
    "        else:\n",
    "            return default\n",
    "    return d\n",
    "\n",
    "def float_or_none(v):\n",
    "    try:\n",
    "        return float(v)\n",
    "    except:\n",
    "        return None\n",
    "\n",
    "def get_iata_by_city(city):\n",
    "    mapping = {\n",
    "        \"Tokyo\": \"NRT\", \"Seoul\": \"ICN\", \"Singapore\": \"SIN\",\n",
    "        \"Kuala Lumpur\": \"KUL\", \"Taipei\": \"TPE\",\n",
    "        \"Ho Chi Minh\": \"SGN\", \"Hong Kong\": \"HKG\"\n",
    "    }\n",
    "    return mapping.get(city)\n",
    "\n",
    "# Load raw JSON\n",
    "weather_path = RAW_WEATHER_DATA_DIR / day / \"data.json\"\n",
    "with open(weather_path, \"r\", encoding=\"utf-8\") as f:\n",
    "    weather_raw = json.load(f)\n",
    "\n",
    "weather_rows = []\n",
    "for w in weather_raw:\n",
    "    row = {\n",
    "        \"city\": w.get(\"city\"),\n",
    "        \"iata\": get_iata_by_city(w.get(\"city\")),\n",
    "        \"temp\": float_or_none(safe_get(w, [\"data\", \"main\", \"temp\"])),\n",
    "        \"humidity\": float_or_none(safe_get(w, [\"data\", \"main\", \"humidity\"])),\n",
    "        \"weather\": safe_get(w, [\"data\", \"weather\", 0, \"main\"]) or \"Unknown\",\n",
    "        \"wind_speed\": float_or_none(safe_get(w, [\"data\", \"wind\", \"speed\"]))\n",
    "    }\n",
    "    weather_rows.append(row)\n",
    "\n",
    "schema = StructType([\n",
    "    StructField(\"city\", StringType(), True),\n",
    "    StructField(\"iata\", StringType(), True),\n",
    "    StructField(\"temp\", FloatType(), True),\n",
    "    StructField(\"humidity\", FloatType(), True),\n",
    "    StructField(\"weather\", StringType(), True),\n",
    "    StructField(\"wind_speed\", FloatType(), True),\n",
    "])\n",
    "\n",
    "df_weather = spark.createDataFrame(weather_rows, schema=schema)\n",
    "df_weather = df_weather.withColumnRenamed(\"iata\", \"weather_iata\")\n",
    "df_weather.show(5)\n"
   ]
  },
  {
   "cell_type": "code",
   "execution_count": 7,
   "id": "a496c744-cc9b-4fe2-b14b-56783d0ef71a",
   "metadata": {},
   "outputs": [
    {
     "name": "stdout",
     "output_type": "stream",
     "text": [
      "+-----------+--------------+------------+--------------------+------------------+--------------------+-----+------------+-----+--------+-------+----------+\n",
      "|flight_iata|departure_iata|arrival_iata|        arrival_time|           airline|         arr_airport| city|weather_iata| temp|humidity|weather|wind_speed|\n",
      "+-----------+--------------+------------+--------------------+------------------+--------------------+-----+------------+-----+--------+-------+----------+\n",
      "|        NQ2|           BKK|         NRT|2025-03-28T08:10:...|         Air Japan|Narita Internatio...|Tokyo|         NRT|17.53|    84.0|Unknown|     11.32|\n",
      "|     AC6230|           BKK|         NRT|2025-03-27T15:05:...|        Air Canada|Narita Internatio...|Tokyo|         NRT|17.53|    84.0|Unknown|     11.32|\n",
      "|       ZG52|           BKK|         NRT|2025-03-28T07:30:...|            Zipair|Narita Internatio...|Tokyo|         NRT|17.53|    84.0|Unknown|     11.32|\n",
      "|     WS5931|           BKK|         NRT|2025-03-27T16:00:...|           WestJet|Narita Internatio...|Tokyo|         NRT|17.53|    84.0|Unknown|     11.32|\n",
      "|     UL3340|           BKK|         NRT|2025-03-27T16:00:...|SriLankan Airlines|Narita Internatio...|Tokyo|         NRT|17.53|    84.0|Unknown|     11.32|\n",
      "+-----------+--------------+------------+--------------------+------------------+--------------------+-----+------------+-----+--------+-------+----------+\n",
      "only showing top 5 rows\n",
      "\n"
     ]
    }
   ],
   "source": [
    "df_joined = df_flight.join(\n",
    "    df_weather,\n",
    "    df_flight.arrival_iata == df_weather.weather_iata,\n",
    "    how=\"left\"\n",
    ")\n",
    "\n",
    "df_joined.show(5)\n",
    "\n",
    "# Save to parquet\n",
    "output_path = CLEAN_DATA_DIR / day\n",
    "df_joined.write.mode(\"overwrite\").parquet(str(output_path / \"flight_weather.parquet\"))\n"
   ]
  },
  {
   "cell_type": "code",
   "execution_count": null,
   "id": "11eb4584-489c-4254-83ad-7239348170d3",
   "metadata": {},
   "outputs": [],
   "source": []
  }
 ],
 "metadata": {
  "kernelspec": {
   "display_name": "Python 3 (ipykernel)",
   "language": "python",
   "name": "python3"
  },
  "language_info": {
   "codemirror_mode": {
    "name": "ipython",
    "version": 3
   },
   "file_extension": ".py",
   "mimetype": "text/x-python",
   "name": "python",
   "nbconvert_exporter": "python",
   "pygments_lexer": "ipython3",
   "version": "3.11.6"
  }
 },
 "nbformat": 4,
 "nbformat_minor": 5
}

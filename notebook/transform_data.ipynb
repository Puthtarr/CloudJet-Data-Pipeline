{
 "cells": [
  {
   "cell_type": "code",
   "execution_count": 1,
   "id": "eb400b87-39af-4654-a1e2-448b33ccc708",
   "metadata": {},
   "outputs": [],
   "source": [
    "import os\n",
    "import json\n",
    "import pytz\n",
    "import logging\n",
    "from pathlib import Path\n",
    "from datetime import datetime, timedelta\n",
    "from dotenv import load_dotenv\n",
    "from pyspark.sql import SparkSession\n",
    "from pyspark.sql.functions import col\n",
    "from pyspark.sql.types import StructType, StructField, StringType, FloatType\n",
    "\n",
    "import sys\n",
    "sys.path.append(\"/home/jovyan/work\")\n",
    "\n",
    "# 🔁 Load path from settings.py\n",
    "from settings import RAW_FLIGHT_DATA_DIR, RAW_WEATHER_DATA_DIR, LOGS_DATA_DIR"
   ]
  },
  {
   "cell_type": "code",
   "execution_count": 2,
   "id": "309d6073-ebaf-4a8f-a0e9-1f5849b68c26",
   "metadata": {},
   "outputs": [
    {
     "name": "stdout",
     "output_type": "stream",
     "text": [
      "Import Environment\n"
     ]
    }
   ],
   "source": [
    "# Import Environment from .env\n",
    "load_dotenv()\n",
    "MINIO_ENDPOINT = os.getenv(\"MINIO_ENDPOINT\")\n",
    "MINIO_BUCKET = os.getenv(\"MINIO_BUCKET\")\n",
    "MINIO_USER = os.getenv(\"MINIO_ROOT_USER\")\n",
    "MINIO_PASS = os.getenv(\"MINIO_ROOT_PASSWORD\")\n",
    "print('Import Environment')"
   ]
  },
  {
   "cell_type": "code",
   "execution_count": 3,
   "id": "3dd5032e-6138-4db7-ac3e-aaa95fb44b03",
   "metadata": {},
   "outputs": [
    {
     "name": "stdout",
     "output_type": "stream",
     "text": [
      "Transform Data on date: 2025-04-02\n"
     ]
    }
   ],
   "source": [
    "# Setup date\n",
    "date = datetime.now(pytz.timezone(\"Asia/Bangkok\")) - timedelta(days=0)\n",
    "day = date.strftime('%Y-%m-%d')\n",
    "print(f'Transform Data on date: {day}')"
   ]
  },
  {
   "cell_type": "code",
   "execution_count": 4,
   "id": "737ba44b-3701-42a6-83e5-9cc09ac31ac9",
   "metadata": {},
   "outputs": [
    {
     "name": "stdout",
     "output_type": "stream",
     "text": [
      "🪵 Logging to: /home/jovyan/work/data/logs/transform_2025-04-02.log\n",
      "Complete Setup Logging\n"
     ]
    }
   ],
   "source": [
    "# Setup Logging\n",
    "log_dir = LOGS_DATA_DIR\n",
    "log_dir.mkdir(parents=True, exist_ok=True)\n",
    "log_file = log_dir / f\"transform_{day}.log\"\n",
    "print(f\"🪵 Logging to: {log_file}\")\n",
    "\n",
    "for handler in logging.root.handlers[:]:\n",
    "    logging.root.removeHandler(handler)\n",
    "    \n",
    "logging.basicConfig(\n",
    "    filename=log_file,\n",
    "    level=logging.INFO,\n",
    "    format=\"%(asctime)s [%(levelname)s] %(message)s\",\n",
    "    datefmt=\"%Y-%m-%d %H:%M:%S\"\n",
    ")\n",
    "\n",
    "logging.info(\"Start transform process\")\n",
    "logging.info(f\"Target Date: {day}\")\n",
    "print('Complete Setup Logging')"
   ]
  },
  {
   "cell_type": "code",
   "execution_count": 5,
   "id": "ac7f6465-7407-4d74-9120-33cb1f63a036",
   "metadata": {},
   "outputs": [
    {
     "name": "stdout",
     "output_type": "stream",
     "text": [
      "Define Helper Function\n"
     ]
    }
   ],
   "source": [
    "# Helpers\n",
    "def safe_get(d, keys, default=None):\n",
    "    for k in keys:\n",
    "        if isinstance(d, dict) and k in d:\n",
    "            d = d[k]\n",
    "        else:\n",
    "            return default\n",
    "    return d\n",
    "\n",
    "def float_or_none(val):\n",
    "    try:\n",
    "        return float(val) if val is not None else None\n",
    "    except:\n",
    "        return None\n",
    "\n",
    "def get_iata_by_city(city):\n",
    "    mapping = {\n",
    "        \"Tokyo\": \"NRT\",\n",
    "        \"Seoul\": \"ICN\",\n",
    "        \"Singapore\": \"SIN\",\n",
    "        \"Kuala Lumpur\": \"KUL\",\n",
    "        \"Taipei\": \"TPE\",\n",
    "        \"Ho Chi Minh\": \"SGN\",\n",
    "        \"Hong Kong\": \"HKG\"\n",
    "    }\n",
    "    return mapping.get(city)\n",
    "\n",
    "print('Define Helper Function')"
   ]
  },
  {
   "cell_type": "code",
   "execution_count": 6,
   "id": "c1cbf68a-5b61-424f-bf55-4e848290fb75",
   "metadata": {},
   "outputs": [
    {
     "name": "stdout",
     "output_type": "stream",
     "text": [
      "Create SparkSession name : CloudJetTransform\n"
     ]
    }
   ],
   "source": [
    "# CreateSparkSession\n",
    "spark = SparkSession.builder \\\n",
    "    .appName(\"CloudJetTransform\") \\\n",
    "    .master(\"spark://spark:7077\") \\\n",
    "    .config(\"spark.hadoop.fs.s3a.endpoint\", os.getenv(\"MINIO_ENDPOINT\")) \\\n",
    "    .config(\"spark.hadoop.fs.s3a.access.key\", os.getenv(\"MINIO_ROOT_USER\")) \\\n",
    "    .config(\"spark.hadoop.fs.s3a.secret.key\", os.getenv(\"MINIO_ROOT_PASSWORD\")) \\\n",
    "    .config(\"spark.hadoop.fs.s3a.path.style.access\", \"true\") \\\n",
    "    .config(\"spark.hadoop.fs.s3a.impl\", \"org.apache.hadoop.fs.s3a.S3AFileSystem\") \\\n",
    "    .config(\"spark.hadoop.fs.s3a.connection.ssl.enabled\", \"false\") \\\n",
    "    .getOrCreate()\n",
    "\n",
    "logging.info(f\"Create SparkSession name : CloudJetTransform\")\n",
    "print(f\"Create SparkSession name : CloudJetTransform\")"
   ]
  },
  {
   "cell_type": "code",
   "execution_count": 7,
   "id": "6c3fcf13-ad33-4fc4-9e52-d49d3584f291",
   "metadata": {},
   "outputs": [
    {
     "name": "stdout",
     "output_type": "stream",
     "text": [
      "Start Load Flight Data File\n",
      "Loading flight data from /home/jovyan/work/data/raw/flight/2025-04-02/data.json\n",
      "Flight rows: 647\n",
      "Loading weather data from /home/jovyan/work/data/raw/weather/2025-04-02/data.json\n",
      "Weather JSON loaded\n",
      "Weather records: 7\n",
      "Weather rows parsed: 7\n",
      "Creating Spark DataFrame from weather_rows\n",
      "Weather rows: 7\n",
      "Saved to MinIO: s3a://cloudjet-clean/2025-04-02/flight_weather.parquet\n"
     ]
    }
   ],
   "source": [
    "print('Start Load Flight Data File')\n",
    "try:\n",
    "    # Load Flight Data\n",
    "    flight_path = RAW_FLIGHT_DATA_DIR / day / 'data.json'\n",
    "    if not flight_path.exists():\n",
    "        raise FileNotFoundError(f\"Missing flight file: {flight_path}\")\n",
    "        \n",
    "    logging.info(f\"Loading flight data from {flight_path}\")\n",
    "    print(f\"Loading flight data from {flight_path}\")\n",
    "\n",
    "    df_flight_raw = spark.read.option(\"multiline\", True).json(str(flight_path))\n",
    "    df_flight = df_flight_raw.select(\n",
    "        col(\"flight.iata\").alias(\"flight_iata\"),\n",
    "        col(\"departure.iata\").alias(\"departure_iata\"),\n",
    "        col(\"arrival.iata\").alias(\"arrival_iata\"),\n",
    "        col(\"arrival.scheduled\").alias(\"arrival_time\"),\n",
    "        col(\"airline.name\").alias(\"airline\"),\n",
    "        col(\"arrival.airport\").alias(\"arr_airport\"),\n",
    "    )\n",
    "    logging.info(f\"Flight rows: {df_flight.count()}\")\n",
    "    print(f\"Flight rows: {df_flight.count()}\")\n",
    "\n",
    "    # Load Weather Data\n",
    "    weather_path = RAW_WEATHER_DATA_DIR / day / 'data.json'\n",
    "    if not weather_path.exists():\n",
    "        raise FileNotFoundError(f\"Missing weather file: {weather_path}\")\n",
    "\n",
    "    logging.info(f\"Loading weather data from {weather_path}\")\n",
    "    print(f\"Loading weather data from {weather_path}\")\n",
    "    with open(weather_path, \"r\", encoding='utf-8') as f:\n",
    "        weather_raw = json.load(f)\n",
    "        print(\"Weather JSON loaded\")\n",
    "\n",
    "    print(f\"Weather records: {len(weather_raw)}\")\n",
    "\n",
    "    weather_rows = []\n",
    "    for w in weather_raw:\n",
    "        weather = safe_get(w, [\"data\", \"weather\", 0, \"main\"])\n",
    "        if not isinstance(weather, str):\n",
    "            weather = \"Unknown\"\n",
    "        weather_rows.append({\n",
    "            \"city\": w.get(\"city\"),\n",
    "            \"iata\": get_iata_by_city(w.get(\"city\")),\n",
    "            \"temp\": float_or_none(safe_get(w, [\"data\", \"main\", \"temp\"])),\n",
    "            \"humidity\": float_or_none(safe_get(w, [\"data\", \"main\", \"humidity\"])),\n",
    "            \"weather\": weather,\n",
    "            \"wind_speed\": float_or_none(safe_get(w, [\"data\", \"wind\", \"speed\"]))\n",
    "        })\n",
    "    print(f\"Weather rows parsed: {len(weather_rows)}\")\n",
    "\n",
    "    schema = StructType([\n",
    "        StructField(\"city\", StringType(), True),\n",
    "        StructField(\"iata\", StringType(), True),\n",
    "        StructField(\"temp\", FloatType(), True),\n",
    "        StructField(\"humidity\", FloatType(), True),\n",
    "        StructField(\"weather\", StringType(), True),\n",
    "        StructField(\"wind_speed\", FloatType(), True),\n",
    "    ])\n",
    "\n",
    "    print(\"Creating Spark DataFrame from weather_rows\")\n",
    "    df_weather = spark.createDataFrame(weather_rows, schema=schema)\n",
    "    logging.info(f\"Weather rows: {df_weather.count()}\")\n",
    "\n",
    "    # Join\n",
    "    df_joined = df_flight.join(df_weather, df_flight.arrival_iata == df_weather.iata, how=\"left\")\n",
    "    logging.info(f\"Joined rows: {df_joined.count()}\")\n",
    "    print(f\"Weather rows: {df_weather.count()}\")\n",
    "\n",
    "    # Save to MinIO\n",
    "    output_path = f\"s3a://{MINIO_BUCKET}/{day}/flight_weather.parquet\"\n",
    "    df_joined.write.mode(\"overwrite\").parquet(output_path)\n",
    "    logging.info(f\"Saved to MinIO: {output_path}\")\n",
    "    print(f\"Saved to MinIO: {output_path}\")\n",
    "\n",
    "except Exception as e:\n",
    "    logging.error(\"Error during transformation\", exc_info=True)\n",
    "    print('Error during transformation')\n",
    "    print(repr(e))\n",
    "\n",
    "finally:\n",
    "    spark.stop()\n",
    "    logging.info(\"Spark session stopped\")\n"
   ]
  },
  {
   "cell_type": "code",
   "execution_count": 8,
   "id": "1a6c49cc-7456-4499-8162-c1b22730e612",
   "metadata": {},
   "outputs": [
    {
     "name": "stdout",
     "output_type": "stream",
     "text": [
      "-rwxrwxrwx 1 root root 961457 Apr  1 20:32 /home/jovyan/work/data/raw/flight/2025-04-02/data.json\n"
     ]
    }
   ],
   "source": [
    "!ls -l /home/jovyan/work/data/raw/flight/2025-04-02/data.json"
   ]
  },
  {
   "cell_type": "code",
   "execution_count": null,
   "id": "652240a0-a1c9-4559-98a2-b6b9cab4f565",
   "metadata": {},
   "outputs": [],
   "source": []
  }
 ],
 "metadata": {
  "kernelspec": {
   "display_name": "Python 3 (ipykernel)",
   "language": "python",
   "name": "python3"
  },
  "language_info": {
   "codemirror_mode": {
    "name": "ipython",
    "version": 3
   },
   "file_extension": ".py",
   "mimetype": "text/x-python",
   "name": "python",
   "nbconvert_exporter": "python",
   "pygments_lexer": "ipython3",
   "version": "3.11.6"
  }
 },
 "nbformat": 4,
 "nbformat_minor": 5
}
